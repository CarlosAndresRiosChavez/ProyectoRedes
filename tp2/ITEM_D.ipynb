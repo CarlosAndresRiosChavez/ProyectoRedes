{
 "cells": [
  {
   "cell_type": "code",
   "execution_count": 61,
   "metadata": {},
   "outputs": [],
   "source": [
    "import numpy as np\n",
    "import networkx as nx\n",
    "import random as rdm"
   ]
  },
  {
   "cell_type": "code",
   "execution_count": 62,
   "metadata": {},
   "outputs": [],
   "source": [
    "# Input files #################\n",
    "# Funcion para leer input files\n",
    "def ldata(archive):\n",
    "    f=open(archive)\n",
    "    data=[]\n",
    "    for line in f:\n",
    "        line=line.strip()\n",
    "        col=line.split()\n",
    "        data.append(col)\n",
    "    return data\n",
    "\n",
    "archive_mul=\"./yeast_LIT_Reguly_curado.txt\"\n",
    "\n",
    "###### Grafo bin\n",
    "lista_mul = ldata(archive_mul)\n",
    "Gmul = nx.Graph()\n",
    "Gmul.add_edges_from(lista_mul)\n",
    "\n",
    "N = Gmul.number_of_nodes()\n",
    "m = Gmul.number_of_edges()\n",
    "\n",
    "essentials=[]\n",
    "l_essential = ldata(\"./Essential_ORFs_paperHe_curado.txt\")\n",
    "for i in range (0,np.size(l_essential)):\n",
    "    essentials.append(l_essential[i])\n",
    "\n",
    "dummy = list(Gmul.nodes())\n",
    "essential_index=[]\n",
    "\n",
    "#Esto me da el numero de nodos esenciales \n",
    "essentials = np.asarray(l_essential)\n",
    "essentials = set(dummy) & set(essentials.flat)\n",
    "essentials = list(essentials)\n",
    "\n",
    "for i in range(0,np.size(dummy)):\n",
    "    for j in range(0,np.size(essentials)):\n",
    "        if dummy[i] == essentials[j]:\n",
    "          essential_index.append(i)\n",
    "        \n",
    "#El numero de enlaces esenciales es la suma de los enlaces que conectan nodos esenciales\n",
    "A = nx.to_numpy_matrix(Gmul)\n",
    "me = 0\n",
    "for i in essential_index:\n",
    "  for j in range(0,N):\n",
    "    if A[i,j] == 1 and j in essential_index:\n",
    "      me = me + 1   "
   ]
  },
  {
   "cell_type": "code",
   "execution_count": 63,
   "metadata": {},
   "outputs": [
    {
     "name": "stdout",
     "output_type": "stream",
     "text": [
      "Empezando aleatorizacion\n",
      "alpha =\n",
      "0.4069855732725892\n",
      "Beta =\n",
      "0.27225767243998783\n"
     ]
    }
   ],
   "source": [
    "print \"Empezando aleatorizacion\"\n",
    "\n",
    "#Esto se utiliza para recablear aleatoriamente cuidando la distribucion de grados,\n",
    "#Este metodo no genera loops. Mantiene la matriz de conecciones simetrica\n",
    "\n",
    "size = (N*N)-N\n",
    "list_merand = []\n",
    "for random in range(0,2):\n",
    "  k = 1\n",
    "  l = 0\n",
    "  F = np.zeros(size/2)\n",
    "  F1 = F\n",
    "  F0 = np.zeros((N,N))\n",
    "  F2 = F0\n",
    "#En este primer ciclo busco la parte a simetrizar, la suma de esta parte debe ser igual a la suma de grados de la red\n",
    "  for i in range(0,N): \n",
    "    for j in range(k,N):\n",
    "      F[l] = A[i,j]\n",
    "      l = l+1\n",
    "    k = k + 1\n",
    "#Aqui se distriuyen al azar\n",
    "  np.random.shuffle(F)\n",
    "  k = 1\n",
    "  l = 0\n",
    "#En este ciclo se re arma la matriz cuidando que quede simetrica.\n",
    "  for i in range(0,N):\n",
    "    for j in range(k,N):\n",
    "      F0[i,j] = F[l]\n",
    "      F0[j,i] = F[l]\n",
    "      l = l+1  \n",
    "    k = k + 1\n",
    "    \n",
    "  B = np.sum(F0,axis=1)\n",
    "  \n",
    "  me_rand = 0  \n",
    "  for i in essential_index:\n",
    "    for j in range(0,N):\n",
    "      if F0[i,j] == 1 and j in essential_index:\n",
    "        me_rand = me_rand + 1\n",
    "  list_merand.append(me_rand) \n",
    "\n",
    "alpha = (me - np.mean(list_merand))/m\n",
    "\n",
    "print \"alpha =\"\n",
    "print alpha\n",
    "\n",
    "beta = np.zeros(2)\n",
    "Ne = np.size(essentials)\n",
    "for random in range(0,2):\n",
    "#Para calcular la Beta\n",
    "  me_rand_00 = me - np.random.choice(list_merand) #Enlaces esenciles aleatorios por marcar\n",
    "  for i in range(0,me_rand_00):\n",
    "    F1[i]= 1\n",
    "#Aqui se distriuyen al azar los enlaces\n",
    "  np.random.shuffle(F1)\n",
    "  k = 1\n",
    "  l = 0\n",
    "#En este ciclo se re arma la matriz cuidando que quede simetrica. Aqui solo existen enlaces esenciales\n",
    "  sample0a = []\n",
    "  sample0b = []  \n",
    "  for i in range(0,N):\n",
    "    for j in range(k,N):\n",
    "      F2[i,j] = F1[l]\n",
    "      F2[j,i] = F1[l]\n",
    "      if F2[i,j] == 1:\n",
    "        sample0a.append(i)\n",
    "        sample0b.append(j)\n",
    "      l = l+1  \n",
    "    k = k + 1\n",
    "#Vemos cuantos nodos son esenciales        \n",
    "    ne_rand = np.size(set(sample0a))\n",
    "\n",
    "  X = Ne - ne_rand #Cantidad de nodos esenciales por agregar\n",
    "  if X > 0:\n",
    "    beta[random] = (X+0.0)/(N-ne_rand)\n",
    "\n",
    "Beta = np.mean(beta)\n",
    "\n",
    "print \"Beta =\"\n",
    "print Beta"
   ]
  },
  {
   "cell_type": "code",
   "execution_count": 64,
   "metadata": {},
   "outputs": [
    {
     "name": "stdout",
     "output_type": "stream",
     "text": [
      "319.0\n"
     ]
    }
   ],
   "source": [
    "#Para sacar el grado de los nodos esenciales\n",
    "ks = np.sum(A, axis=1)\n",
    "flag = np.amax(ks)\n",
    "\n",
    "j = 0\n",
    "KE = np.zeros(np.size(essential_index))\n",
    "for i in essential_index:\n",
    "  KE[j] = ks[i]\n",
    "  j = j+1\n",
    "\n",
    "a = np.amax(KE)-np.amin(KE)\n",
    "print np.amax(ks)\n",
    "\n",
    "Ke = np.zeros(int(np.size(ks)))\n",
    "for i in essential_index:\n",
    "  Ke[j] = ks[i]\n",
    "  j = j+1"
   ]
  },
  {
   "cell_type": "code",
   "execution_count": 65,
   "metadata": {},
   "outputs": [],
   "source": [
    "histo, bines = np.histogram(ks,bins=int(np.amax(ks)))"
   ]
  },
  {
   "cell_type": "code",
   "execution_count": 66,
   "metadata": {},
   "outputs": [],
   "source": [
    "ke = np.zeros(22)\n",
    "for i in range(0,22):\n",
    "  ke[i] = np.size(np.where(KE==i))\n",
    "  if ke[i] != 0 and histo[i] != 0:\n",
    "        ke[i] = (ke[i] + 0.0)/histo[i]"
   ]
  },
  {
   "cell_type": "code",
   "execution_count": 67,
   "metadata": {},
   "outputs": [
    {
     "data": {
      "image/png": "[encoded data removed]",
      "text/plain": [
       "<Figure size 432x288 with 1 Axes>"
      ]
     },
     "metadata": {},
     "output_type": "display_data"
    }
   ],
   "source": [
    "from matplotlib import pyplot as plt\n",
    "x = np.linspace(0,22,22)\n",
    "y = x*np.log10(1-0.1*alpha) + np.log10(1-Beta)\n",
    "plt.xlim(0,20)\n",
    "plt.ylim(-0.6,0.1)\n",
    "plt.ylabel(r'$log_{10}(1-P_{E})$')\n",
    "plt.xlabel(r'Conectividad de la proteina (k)')\n",
    "plt.plot(x,np.log10(1-ke),'k^')\n",
    "plt.plot(x,y,'k-')\n",
    "plt.savefig('yeast_LIT.png', dpi=300,  bbox_inches='tight')"
   ]
  },
  {
   "cell_type": "code",
   "execution_count": 68,
   "metadata": {},
   "outputs": [
    {
     "name": "stdout",
     "output_type": "stream",
     "text": [
      "nodos\n",
      "3292\n",
      "enlaces\n",
      "11853\n",
      "nodos esenciales\n",
      "897\n",
      "enlaces esenciales\n",
      "6518\n",
      "alpha\n",
      "0.040698557327258925\n",
      "beta\n",
      "0.27225767243998783\n"
     ]
    }
   ],
   "source": [
    "print 'nodos'\n",
    "print N\n",
    "print 'enlaces'\n",
    "print m\n",
    "print 'nodos esenciales'\n",
    "print np.size(essentials)\n",
    "print 'enlaces esenciales'\n",
    "print me\n",
    "print \"alpha\"\n",
    "print 0.1*alpha\n",
    "print \"beta\"\n",
    "print Beta"
   ]
  },
  {
   "cell_type": "code",
   "execution_count": null,
   "metadata": {},
   "outputs": [],
   "source": []
  }
 ],
 "metadata": {
  "kernelspec": {
   "display_name": "Python 2",
   "language": "python",
   "name": "python2"
  },
  "language_info": {
   "codemirror_mode": {
    "name": "ipython",
    "version": 2
   },
   "file_extension": ".py",
   "mimetype": "text/x-python",
   "name": "python",
   "nbconvert_exporter": "python",
   "pygments_lexer": "ipython2",
   "version": "2.7.15"
  }
 },
 "nbformat": 4,
 "nbformat_minor": 2
}
