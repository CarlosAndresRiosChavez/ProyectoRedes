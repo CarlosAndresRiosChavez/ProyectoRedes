{
 "cells": [
  {
   "cell_type": "markdown",
   "metadata": {},
   "source": [
    "###### Redes Complejas con aplicación a Biología de Sistemas - 2018"
   ]
  },
  {
   "cell_type": "markdown",
   "metadata": {},
   "source": [
    "# Trabajo Computacional no. 01 de Redes Complejas\n",
    "#### Grupo: Marco A. Villagran Azuara, Carlos Andres Rios Chavez, Andres Troiano y Rodrigo Sieira."
   ]
  },
  {
   "cell_type": "markdown",
   "metadata": {},
   "source": [
    "# Ejercicio no. 4\n",
    "\n",
    "### Asortatividad\n",
    "#### Observación: el código se adjunta en un anexo"
   ]
  },
  {
   "cell_type": "markdown",
   "metadata": {},
   "source": [
    "**a.** Considere la red de colaboraciones científicas (*netscience.gml*) y la red de internet (*as-july06.gml*). Analice si nodos de alto grado tienden a conectarse con nodos de alto grado o si por el contrario suelen conectarse a nodos de bajo grado. Es decir, si la red es asortativa o disortativa respecto al grado. Para ello:\n",
    "\n",
    "**i.** Determine, para nodos de grado $k$, cuánto vale en media el grado de sus vecinos.\n",
    "\n",
    "**ii.** Analizar la tendencia observada en un gráfico que consigne dicho valor $k_{nm}(k)$ como función del grado."
   ]
  },
  {
   "cell_type": "markdown",
   "metadata": {},
   "source": [
    "![title](./TP-comp/TP01/imagenes/inciso_a_i_colaboraciones.png)"
   ]
  },
  {
   "cell_type": "markdown",
   "metadata": {},
   "source": [
    "![title](./TP-comp/TP01/imagenes/inciso_a_i_internet.png)"
   ]
  },
  {
   "cell_type": "markdown",
   "metadata": {},
   "source": [
    "En las dos figuras superiores se observa lo siguiente: cada punto azul es un nodo. En la coordenada $x$ está su grado, y en la coordenada $y$ el promedio de los grados de todos sus vecinos. En rojo se muestra el promedio del grado medio de los vecinos para cada grado ($k_{nm}$). En otras palabras: el promedio de todas las coordenadas $y$ realizadas para cada coordenada $x$.\n",
    "\n",
    "En el caso de la red de colaboraciones se observa una tendencia a que nodos de alto grado se relacionen más con otros nodos de alto grado, es decir que esta red sería asortativa. En el caso de la red de internet se observa lo contrario, es decir que sería disortativa."
   ]
  },
  {
   "cell_type": "markdown",
   "metadata": {},
   "source": [
    "**iii.** Asumiendo que $k_{nn}(k) = ak^\\mu$, estime el exponente de correlación a partir de realizar una regresión de $log(k_{nn}) \\sim log(k)$. Asegúrese de graficar el fiteo en el gráfico anterior."
   ]
  },
  {
   "cell_type": "markdown",
   "metadata": {},
   "source": [
    "![title](./TP-comp/TP01/imagenes/inciso_a_iii_colaboraciones_2.png)"
   ]
  },
  {
   "cell_type": "markdown",
   "metadata": {},
   "source": [
    "Pendiente del ajuste: $\\mu = 0.30 \\pm 0.07$. Parámetro de bondad: $R^2 = 0.48$."
   ]
  },
  {
   "cell_type": "markdown",
   "metadata": {},
   "source": [
    "![title](./TP-comp/TP01/imagenes/inciso_a_iii_internet_2.png)"
   ]
  },
  {
   "cell_type": "markdown",
   "metadata": {},
   "source": [
    "Pendiente del ajuste: $\\mu = -0.44 \\pm 0.04$. Parámetro de bondad: $R^2 = 0.44$."
   ]
  },
  {
   "cell_type": "markdown",
   "metadata": {},
   "source": [
    "**iv.** Encuentre cuantitativamente la asortatividad de la red utilizando ahora el estimador propuesto por Newman. ¿Cómo se corresponde este coeficiente con el estimado en el punto anterior?"
   ]
  },
  {
   "cell_type": "markdown",
   "metadata": {},
   "source": [
    "El coeficiente de correlación propuesto por Newman es $r = \\frac{\\sum_{ij}(A_{ij} - k_ik_j/2m)k_ik_j}{\\sum_{ij}(k_i\\delta_{ij} - k_ik_j/2m)k_ik_j}$. Sin embargo, debido a la gran cantidad de términos en las dobles sumas, este cálculo es extremadamente lento y Newman propone reemplazarlo por:\n",
    "\n",
    "$r = \\frac{S_1S_e - S_2^2}{S_1S_3 - S_2^2}$, con:\n",
    "\n",
    "$S_e = 2\\sum\\limits_{edges (i,j)} k_ik_j$\n",
    "\n",
    "$S_1 = \\sum_i k_i$\n",
    "\n",
    "$S_2 = \\sum_i k_i^2$\n",
    "\n",
    "$S_3 = \\sum_i k_i^3$\n",
    "\n",
    "De esta manera los resultados obtenidos fueron: $r = 0.46$ para la red de colaboraciones científicas y $r = -0.20$ para la red de internet.\n",
    "\n",
    "Comparando los resultados obtenidos mediante los modelos de Barabasi y Newman observamos lo siguiente: en la red de colaboraciones científicas tanto $\\mu$ como $r$ son positivos ($0.3$ y $0.46$ respectivamente) lo cual indica que la red es asortativa. Es decir que aquellos investigadores que poseen un alto número de colaboraciones tienden a colaborar con otros que también poseen alto número de colaboraciones. En  la red de internet, en cambio, los coeficientes $\\mu$ y $r$ fueron $-0.66$ y $-0.20$ indicando que la red es disortativa. Si consideramos a internet como una red de páginas web conectadas entre sí mediante links, la dissortatividad de grado observada indicaría que las páginas web (nodos) que se hallan enlazadas con un alto número de páginas web (alto grado) tienden a vincularse con páginas web que son llamadas por pocos enlaces (bajo grado).\n"
   ]
  },
  {
   "cell_type": "markdown",
   "metadata": {},
   "source": [
    "**b.** Repita el análisis para las redes Y2H y AP-MS. ¿Puede explicar lo que observa en cuanto a la asortatividad reportada?"
   ]
  },
  {
   "cell_type": "markdown",
   "metadata": {},
   "source": [
    "![title](./TP-comp/TP01/imagenes/inciso_a_iii_complejos_proteicos_2.png)"
   ]
  },
  {
   "cell_type": "markdown",
   "metadata": {},
   "source": [
    "Pendiente del ajuste: $\\mu = 0.60 \\pm 0.02$. Parámetro de bondad: $R^2 = 0.92$."
   ]
  },
  {
   "cell_type": "markdown",
   "metadata": {},
   "source": [
    "![title](./TP-comp/TP01/imagenes/inciso_a_iii_interacciones_binarias_2.png)"
   ]
  },
  {
   "cell_type": "markdown",
   "metadata": {},
   "source": [
    "Pendiente del ajuste: $\\mu = -0.18 \\pm 0.07$. Parámetro de bondad: $R^2 = 0.18$."
   ]
  },
  {
   "cell_type": "markdown",
   "metadata": {},
   "source": [
    "La red de co-pertenencia a complejos proteicos AP-MS muestra una contundente assortatividad de grado, sugiriendo que los nodos con alto grado tienden a conectarse con vecinos de alto grado. Sin embargo, dicho resultado podría deberse a cómo fue relevada la red AP-MS: al inmunoprecipitar un complejo multiprotéico se identifican todas las proteínas que forman parte del mismo. Si a cada proteína del complejo se le asignan enlaces con todas las demás, para muchas proteínas se incrementaría arbitrariamente el número de contactos sin que necesariamente ocurran en la naturaleza. Esto lleva a que se observe una fuerte tendencia assortativa dado que cuanto más grande sea el complejo, mayor será el número de enlaces para todas las proteínas que lo componen, forzando artificialmente la presencia de nodos de alto grado con vecinos de alto grado.\n",
    "\n",
    "En la red de interacciones binarias Y2H, en cambio, observamos una tendencia disortativa. Este resultado concuerda para lo esperado para las redes biológicas (son disortativas), y por lo tanto se podría inferir que en comparación con las redes de co-pertenencia a complejos protéicos, el método Y2H permite generar mejores modelos de redes, más representativos de lo que ocurre en el sistema biológico en estudio."
   ]
  }
 ],
 "metadata": {
  "kernelspec": {
   "display_name": "Python 3",
   "language": "python",
   "name": "python3"
  },
  "language_info": {
   "codemirror_mode": {
    "name": "ipython",
    "version": 3
   },
   "file_extension": ".py",
   "mimetype": "text/x-python",
   "name": "python",
   "nbconvert_exporter": "python",
   "pygments_lexer": "ipython3",
   "version": "3.6.5"
  }
 },
 "nbformat": 4,
 "nbformat_minor": 2
}
